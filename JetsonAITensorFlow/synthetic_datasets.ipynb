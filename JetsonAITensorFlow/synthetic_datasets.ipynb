{
 "cells": [
  {
   "cell_type": "code",
   "execution_count": 11,
   "id": "d886efd0",
   "metadata": {},
   "outputs": [],
   "source": [
    "import pandas as pd\n",
    "import tensorflow as tf\n",
    "from matplotlib import pyplot as plt\n",
    "\n",
    "#https://colab.research.google.com/github/google/eng-edu/blob/main/ml/cc/exercises/linear_regression_with_synthetic_data.ipynb"
   ]
  },
  {
   "cell_type": "code",
   "execution_count": 61,
   "id": "7b228e2b",
   "metadata": {},
   "outputs": [],
   "source": [
    "my_feature = ([1.0, 2.0,  3.0,  4.0,  5.0,  6.0,  7.0,  8.0,  9.0, 10.0, 11.0, 12.0])\n",
    "my_label   = ([5.0, 8.8,  9.6, 14.2, 18.8, 19.5, 21.4, 26.8, 28.9, 32.0, 33.8, 38.2])\n",
    "learning_rate=0.14\n",
    "batch_size = 12\n",
    "epochs=70"
   ]
  },
  {
   "cell_type": "code",
   "execution_count": 62,
   "id": "d0c32ac4",
   "metadata": {},
   "outputs": [],
   "source": [
    "model = tf.keras.models.Sequential()"
   ]
  },
  {
   "cell_type": "code",
   "execution_count": 63,
   "id": "c21281ec",
   "metadata": {},
   "outputs": [
    {
     "data": {
      "text/plain": [
       "<keras.engine.sequential.Sequential at 0x7ec8986518>"
      ]
     },
     "execution_count": 63,
     "metadata": {},
     "output_type": "execute_result"
    }
   ],
   "source": [
    "model"
   ]
  },
  {
   "cell_type": "code",
   "execution_count": 64,
   "id": "ff4d4571",
   "metadata": {},
   "outputs": [],
   "source": [
    "model.add(tf.keras.layers.Dense(units=1, \n",
    "                                  input_shape=(1,)))"
   ]
  },
  {
   "cell_type": "code",
   "execution_count": 65,
   "id": "761d4511",
   "metadata": {},
   "outputs": [],
   "source": [
    "model.compile(optimizer=tf.keras.optimizers.RMSprop(learning_rate=learning_rate),\n",
    "                loss=\"mean_squared_error\",\n",
    "                metrics=[tf.keras.metrics.RootMeanSquaredError()])"
   ]
  },
  {
   "cell_type": "code",
   "execution_count": 66,
   "id": "c974f8e3",
   "metadata": {},
   "outputs": [
    {
     "name": "stdout",
     "output_type": "stream",
     "text": [
      "Epoch 1/70\n",
      "1/1 [==============================] - 4s 4s/step - loss: 448.2073 - root_mean_squared_error: 21.1709\n",
      "Epoch 2/70\n",
      "1/1 [==============================] - 0s 22ms/step - loss: 306.9558 - root_mean_squared_error: 17.5202\n",
      "Epoch 3/70\n",
      "1/1 [==============================] - 0s 27ms/step - loss: 228.6780 - root_mean_squared_error: 15.1221\n",
      "Epoch 4/70\n",
      "1/1 [==============================] - 0s 24ms/step - loss: 175.5959 - root_mean_squared_error: 13.2513\n",
      "Epoch 5/70\n",
      "1/1 [==============================] - 0s 27ms/step - loss: 136.6899 - root_mean_squared_error: 11.6914\n",
      "Epoch 6/70\n",
      "1/1 [==============================] - 0s 42ms/step - loss: 107.0317 - root_mean_squared_error: 10.3456\n",
      "Epoch 7/70\n",
      "1/1 [==============================] - 0s 22ms/step - loss: 83.9246 - root_mean_squared_error: 9.1610\n",
      "Epoch 8/70\n",
      "1/1 [==============================] - 0s 30ms/step - loss: 65.7024 - root_mean_squared_error: 8.1057\n",
      "Epoch 9/70\n",
      "1/1 [==============================] - 0s 23ms/step - loss: 51.2464 - root_mean_squared_error: 7.1587\n",
      "Epoch 10/70\n",
      "1/1 [==============================] - 0s 39ms/step - loss: 39.7595 - root_mean_squared_error: 6.3055\n",
      "Epoch 11/70\n",
      "1/1 [==============================] - 0s 26ms/step - loss: 30.6469 - root_mean_squared_error: 5.5360\n",
      "Epoch 12/70\n",
      "1/1 [==============================] - 0s 20ms/step - loss: 23.4489 - root_mean_squared_error: 4.8424\n",
      "Epoch 13/70\n",
      "1/1 [==============================] - 0s 27ms/step - loss: 17.8010 - root_mean_squared_error: 4.2191\n",
      "Epoch 14/70\n",
      "1/1 [==============================] - 0s 24ms/step - loss: 13.4075 - root_mean_squared_error: 3.6616\n",
      "Epoch 15/70\n",
      "1/1 [==============================] - 0s 28ms/step - loss: 10.0261 - root_mean_squared_error: 3.1664\n",
      "Epoch 16/70\n",
      "1/1 [==============================] - 0s 26ms/step - loss: 7.4558 - root_mean_squared_error: 2.7305\n",
      "Epoch 17/70\n",
      "1/1 [==============================] - 0s 27ms/step - loss: 5.5297 - root_mean_squared_error: 2.3515\n",
      "Epoch 18/70\n",
      "1/1 [==============================] - 0s 42ms/step - loss: 4.1094 - root_mean_squared_error: 2.0272\n",
      "Epoch 19/70\n",
      "1/1 [==============================] - 0s 25ms/step - loss: 3.0806 - root_mean_squared_error: 1.7552\n",
      "Epoch 20/70\n",
      "1/1 [==============================] - 0s 20ms/step - loss: 2.3499 - root_mean_squared_error: 1.5329\n",
      "Epoch 21/70\n",
      "1/1 [==============================] - 0s 21ms/step - loss: 1.8420 - root_mean_squared_error: 1.3572\n",
      "Epoch 22/70\n",
      "1/1 [==============================] - 0s 31ms/step - loss: 1.4971 - root_mean_squared_error: 1.2236\n",
      "Epoch 23/70\n",
      "1/1 [==============================] - 0s 29ms/step - loss: 1.2687 - root_mean_squared_error: 1.1264\n",
      "Epoch 24/70\n",
      "1/1 [==============================] - 0s 26ms/step - loss: 1.1216 - root_mean_squared_error: 1.0591\n",
      "Epoch 25/70\n",
      "1/1 [==============================] - 0s 29ms/step - loss: 1.0295 - root_mean_squared_error: 1.0147\n",
      "Epoch 26/70\n",
      "1/1 [==============================] - 0s 27ms/step - loss: 0.9736 - root_mean_squared_error: 0.9867\n",
      "Epoch 27/70\n",
      "1/1 [==============================] - 0s 33ms/step - loss: 0.9408 - root_mean_squared_error: 0.9699\n",
      "Epoch 28/70\n",
      "1/1 [==============================] - 0s 30ms/step - loss: 0.9221 - root_mean_squared_error: 0.9603\n",
      "Epoch 29/70\n",
      "1/1 [==============================] - 0s 20ms/step - loss: 0.9118 - root_mean_squared_error: 0.9549\n",
      "Epoch 30/70\n",
      "1/1 [==============================] - 0s 35ms/step - loss: 0.9062 - root_mean_squared_error: 0.9520\n",
      "Epoch 31/70\n",
      "1/1 [==============================] - 0s 19ms/step - loss: 0.9032 - root_mean_squared_error: 0.9504\n",
      "Epoch 32/70\n",
      "1/1 [==============================] - 0s 22ms/step - loss: 0.9015 - root_mean_squared_error: 0.9495\n",
      "Epoch 33/70\n",
      "1/1 [==============================] - 0s 30ms/step - loss: 0.9005 - root_mean_squared_error: 0.9490\n",
      "Epoch 34/70\n",
      "1/1 [==============================] - 0s 38ms/step - loss: 0.8998 - root_mean_squared_error: 0.9486\n",
      "Epoch 35/70\n",
      "1/1 [==============================] - 0s 21ms/step - loss: 0.8992 - root_mean_squared_error: 0.9483\n",
      "Epoch 36/70\n",
      "1/1 [==============================] - 0s 21ms/step - loss: 0.8986 - root_mean_squared_error: 0.9480\n",
      "Epoch 37/70\n",
      "1/1 [==============================] - 0s 27ms/step - loss: 0.8980 - root_mean_squared_error: 0.9477\n",
      "Epoch 38/70\n",
      "1/1 [==============================] - 0s 35ms/step - loss: 0.8975 - root_mean_squared_error: 0.9473\n",
      "Epoch 39/70\n",
      "1/1 [==============================] - 0s 22ms/step - loss: 0.8969 - root_mean_squared_error: 0.9470\n",
      "Epoch 40/70\n",
      "1/1 [==============================] - 0s 20ms/step - loss: 0.8963 - root_mean_squared_error: 0.9467\n",
      "Epoch 41/70\n",
      "1/1 [==============================] - 0s 19ms/step - loss: 0.8957 - root_mean_squared_error: 0.9464\n",
      "Epoch 42/70\n",
      "1/1 [==============================] - 0s 32ms/step - loss: 0.8950 - root_mean_squared_error: 0.9461\n",
      "Epoch 43/70\n",
      "1/1 [==============================] - 0s 21ms/step - loss: 0.8944 - root_mean_squared_error: 0.9457\n",
      "Epoch 44/70\n",
      "1/1 [==============================] - 0s 27ms/step - loss: 0.8937 - root_mean_squared_error: 0.9454\n",
      "Epoch 45/70\n",
      "1/1 [==============================] - 0s 24ms/step - loss: 0.8931 - root_mean_squared_error: 0.9450\n",
      "Epoch 46/70\n",
      "1/1 [==============================] - 0s 44ms/step - loss: 0.8924 - root_mean_squared_error: 0.9447\n",
      "Epoch 47/70\n",
      "1/1 [==============================] - 0s 29ms/step - loss: 0.8917 - root_mean_squared_error: 0.9443\n",
      "Epoch 48/70\n",
      "1/1 [==============================] - 0s 30ms/step - loss: 0.8910 - root_mean_squared_error: 0.9439\n",
      "Epoch 49/70\n",
      "1/1 [==============================] - 0s 28ms/step - loss: 0.8903 - root_mean_squared_error: 0.9436\n",
      "Epoch 50/70\n",
      "1/1 [==============================] - 0s 34ms/step - loss: 0.8896 - root_mean_squared_error: 0.9432\n",
      "Epoch 51/70\n",
      "1/1 [==============================] - 0s 31ms/step - loss: 0.8889 - root_mean_squared_error: 0.9428\n",
      "Epoch 52/70\n",
      "1/1 [==============================] - 0s 20ms/step - loss: 0.8882 - root_mean_squared_error: 0.9424\n",
      "Epoch 53/70\n",
      "1/1 [==============================] - 0s 22ms/step - loss: 0.8875 - root_mean_squared_error: 0.9420\n",
      "Epoch 54/70\n",
      "1/1 [==============================] - 0s 35ms/step - loss: 0.8867 - root_mean_squared_error: 0.9417\n",
      "Epoch 55/70\n",
      "1/1 [==============================] - 0s 30ms/step - loss: 0.8860 - root_mean_squared_error: 0.9413\n",
      "Epoch 56/70\n",
      "1/1 [==============================] - 0s 21ms/step - loss: 0.8854 - root_mean_squared_error: 0.9409\n",
      "Epoch 57/70\n",
      "1/1 [==============================] - 0s 30ms/step - loss: 0.8847 - root_mean_squared_error: 0.9406\n",
      "Epoch 58/70\n",
      "1/1 [==============================] - 0s 40ms/step - loss: 0.8840 - root_mean_squared_error: 0.9402\n",
      "Epoch 59/70\n",
      "1/1 [==============================] - 0s 20ms/step - loss: 0.8833 - root_mean_squared_error: 0.9399\n",
      "Epoch 60/70\n",
      "1/1 [==============================] - 0s 17ms/step - loss: 0.8827 - root_mean_squared_error: 0.9395\n",
      "Epoch 61/70\n",
      "1/1 [==============================] - 0s 23ms/step - loss: 0.8821 - root_mean_squared_error: 0.9392\n",
      "Epoch 62/70\n",
      "1/1 [==============================] - 0s 28ms/step - loss: 0.8815 - root_mean_squared_error: 0.9389\n",
      "Epoch 63/70\n",
      "1/1 [==============================] - 0s 27ms/step - loss: 0.8809 - root_mean_squared_error: 0.9386\n",
      "Epoch 64/70\n",
      "1/1 [==============================] - 0s 24ms/step - loss: 0.8803 - root_mean_squared_error: 0.9383\n",
      "Epoch 65/70\n",
      "1/1 [==============================] - 0s 23ms/step - loss: 0.8798 - root_mean_squared_error: 0.9380\n",
      "Epoch 66/70\n",
      "1/1 [==============================] - 0s 27ms/step - loss: 0.8793 - root_mean_squared_error: 0.9377\n",
      "Epoch 67/70\n",
      "1/1 [==============================] - 0s 22ms/step - loss: 0.8788 - root_mean_squared_error: 0.9375\n",
      "Epoch 68/70\n",
      "1/1 [==============================] - 0s 29ms/step - loss: 0.8784 - root_mean_squared_error: 0.9372\n",
      "Epoch 69/70\n",
      "1/1 [==============================] - 0s 22ms/step - loss: 0.8780 - root_mean_squared_error: 0.9370\n",
      "Epoch 70/70\n",
      "1/1 [==============================] - 0s 50ms/step - loss: 0.8776 - root_mean_squared_error: 0.9368\n"
     ]
    }
   ],
   "source": [
    "history = model.fit(x=my_feature,\n",
    "                      y=my_label,\n",
    "                      batch_size=batch_size,\n",
    "                      epochs=epochs)"
   ]
  },
  {
   "cell_type": "code",
   "execution_count": 67,
   "id": "c4397b4a",
   "metadata": {},
   "outputs": [
    {
     "data": {
      "text/plain": [
       "[array([[2.9472148]], dtype=float32), array([2.2791622], dtype=float32)]"
      ]
     },
     "execution_count": 67,
     "metadata": {},
     "output_type": "execute_result"
    }
   ],
   "source": [
    "model.get_weights()\n"
   ]
  },
  {
   "cell_type": "code",
   "execution_count": 68,
   "id": "e1b40957",
   "metadata": {},
   "outputs": [
    {
     "data": {
      "text/plain": [
       "array([[2.9472148]], dtype=float32)"
      ]
     },
     "execution_count": 68,
     "metadata": {},
     "output_type": "execute_result"
    }
   ],
   "source": [
    "model.get_weights()[0] # weights"
   ]
  },
  {
   "cell_type": "code",
   "execution_count": 69,
   "id": "43e05540",
   "metadata": {},
   "outputs": [
    {
     "data": {
      "text/plain": [
       "array([2.2791622], dtype=float32)"
      ]
     },
     "execution_count": 69,
     "metadata": {},
     "output_type": "execute_result"
    }
   ],
   "source": [
    "model.get_weights()[1] #bias"
   ]
  },
  {
   "cell_type": "code",
   "execution_count": 70,
   "id": "17c24774",
   "metadata": {},
   "outputs": [],
   "source": [
    "epochs = history.epoch"
   ]
  },
  {
   "cell_type": "code",
   "execution_count": 71,
   "id": "52f6aafa",
   "metadata": {},
   "outputs": [],
   "source": [
    "hist = pd.DataFrame(history.history)"
   ]
  },
  {
   "cell_type": "code",
   "execution_count": 72,
   "id": "2b4a8820",
   "metadata": {},
   "outputs": [
    {
     "data": {
      "text/html": [
       "<div>\n",
       "<style scoped>\n",
       "    .dataframe tbody tr th:only-of-type {\n",
       "        vertical-align: middle;\n",
       "    }\n",
       "\n",
       "    .dataframe tbody tr th {\n",
       "        vertical-align: top;\n",
       "    }\n",
       "\n",
       "    .dataframe thead th {\n",
       "        text-align: right;\n",
       "    }\n",
       "</style>\n",
       "<table border=\"1\" class=\"dataframe\">\n",
       "  <thead>\n",
       "    <tr style=\"text-align: right;\">\n",
       "      <th></th>\n",
       "      <th>loss</th>\n",
       "      <th>root_mean_squared_error</th>\n",
       "    </tr>\n",
       "  </thead>\n",
       "  <tbody>\n",
       "    <tr>\n",
       "      <th>0</th>\n",
       "      <td>448.207275</td>\n",
       "      <td>21.170906</td>\n",
       "    </tr>\n",
       "    <tr>\n",
       "      <th>1</th>\n",
       "      <td>306.955811</td>\n",
       "      <td>17.520155</td>\n",
       "    </tr>\n",
       "    <tr>\n",
       "      <th>2</th>\n",
       "      <td>228.678040</td>\n",
       "      <td>15.122105</td>\n",
       "    </tr>\n",
       "    <tr>\n",
       "      <th>3</th>\n",
       "      <td>175.595947</td>\n",
       "      <td>13.251262</td>\n",
       "    </tr>\n",
       "    <tr>\n",
       "      <th>4</th>\n",
       "      <td>136.689865</td>\n",
       "      <td>11.691444</td>\n",
       "    </tr>\n",
       "    <tr>\n",
       "      <th>5</th>\n",
       "      <td>107.031654</td>\n",
       "      <td>10.345611</td>\n",
       "    </tr>\n",
       "    <tr>\n",
       "      <th>6</th>\n",
       "      <td>83.924644</td>\n",
       "      <td>9.161039</td>\n",
       "    </tr>\n",
       "    <tr>\n",
       "      <th>7</th>\n",
       "      <td>65.702370</td>\n",
       "      <td>8.105700</td>\n",
       "    </tr>\n",
       "    <tr>\n",
       "      <th>8</th>\n",
       "      <td>51.246387</td>\n",
       "      <td>7.158658</td>\n",
       "    </tr>\n",
       "    <tr>\n",
       "      <th>9</th>\n",
       "      <td>39.759472</td>\n",
       "      <td>6.305511</td>\n",
       "    </tr>\n",
       "    <tr>\n",
       "      <th>10</th>\n",
       "      <td>30.646860</td>\n",
       "      <td>5.535961</td>\n",
       "    </tr>\n",
       "    <tr>\n",
       "      <th>11</th>\n",
       "      <td>23.448950</td>\n",
       "      <td>4.842412</td>\n",
       "    </tr>\n",
       "    <tr>\n",
       "      <th>12</th>\n",
       "      <td>17.800976</td>\n",
       "      <td>4.219120</td>\n",
       "    </tr>\n",
       "    <tr>\n",
       "      <th>13</th>\n",
       "      <td>13.407540</td>\n",
       "      <td>3.661631</td>\n",
       "    </tr>\n",
       "    <tr>\n",
       "      <th>14</th>\n",
       "      <td>10.026084</td>\n",
       "      <td>3.166399</td>\n",
       "    </tr>\n",
       "    <tr>\n",
       "      <th>15</th>\n",
       "      <td>7.455761</td>\n",
       "      <td>2.730524</td>\n",
       "    </tr>\n",
       "    <tr>\n",
       "      <th>16</th>\n",
       "      <td>5.529680</td>\n",
       "      <td>2.351527</td>\n",
       "    </tr>\n",
       "    <tr>\n",
       "      <th>17</th>\n",
       "      <td>4.109378</td>\n",
       "      <td>2.027160</td>\n",
       "    </tr>\n",
       "    <tr>\n",
       "      <th>18</th>\n",
       "      <td>3.080584</td>\n",
       "      <td>1.755159</td>\n",
       "    </tr>\n",
       "    <tr>\n",
       "      <th>19</th>\n",
       "      <td>2.349897</td>\n",
       "      <td>1.532937</td>\n",
       "    </tr>\n",
       "    <tr>\n",
       "      <th>20</th>\n",
       "      <td>1.841982</td>\n",
       "      <td>1.357196</td>\n",
       "    </tr>\n",
       "    <tr>\n",
       "      <th>21</th>\n",
       "      <td>1.497085</td>\n",
       "      <td>1.223554</td>\n",
       "    </tr>\n",
       "    <tr>\n",
       "      <th>22</th>\n",
       "      <td>1.268733</td>\n",
       "      <td>1.126381</td>\n",
       "    </tr>\n",
       "    <tr>\n",
       "      <th>23</th>\n",
       "      <td>1.121600</td>\n",
       "      <td>1.059056</td>\n",
       "    </tr>\n",
       "    <tr>\n",
       "      <th>24</th>\n",
       "      <td>1.029518</td>\n",
       "      <td>1.014651</td>\n",
       "    </tr>\n",
       "    <tr>\n",
       "      <th>25</th>\n",
       "      <td>0.973636</td>\n",
       "      <td>0.986730</td>\n",
       "    </tr>\n",
       "    <tr>\n",
       "      <th>26</th>\n",
       "      <td>0.940792</td>\n",
       "      <td>0.969944</td>\n",
       "    </tr>\n",
       "    <tr>\n",
       "      <th>27</th>\n",
       "      <td>0.922103</td>\n",
       "      <td>0.960262</td>\n",
       "    </tr>\n",
       "    <tr>\n",
       "      <th>28</th>\n",
       "      <td>0.911784</td>\n",
       "      <td>0.954874</td>\n",
       "    </tr>\n",
       "    <tr>\n",
       "      <th>29</th>\n",
       "      <td>0.906213</td>\n",
       "      <td>0.951952</td>\n",
       "    </tr>\n",
       "    <tr>\n",
       "      <th>...</th>\n",
       "      <td>...</td>\n",
       "      <td>...</td>\n",
       "    </tr>\n",
       "    <tr>\n",
       "      <th>40</th>\n",
       "      <td>0.895663</td>\n",
       "      <td>0.946395</td>\n",
       "    </tr>\n",
       "    <tr>\n",
       "      <th>41</th>\n",
       "      <td>0.895033</td>\n",
       "      <td>0.946062</td>\n",
       "    </tr>\n",
       "    <tr>\n",
       "      <th>42</th>\n",
       "      <td>0.894388</td>\n",
       "      <td>0.945721</td>\n",
       "    </tr>\n",
       "    <tr>\n",
       "      <th>43</th>\n",
       "      <td>0.893730</td>\n",
       "      <td>0.945373</td>\n",
       "    </tr>\n",
       "    <tr>\n",
       "      <th>44</th>\n",
       "      <td>0.893062</td>\n",
       "      <td>0.945019</td>\n",
       "    </tr>\n",
       "    <tr>\n",
       "      <th>45</th>\n",
       "      <td>0.892383</td>\n",
       "      <td>0.944660</td>\n",
       "    </tr>\n",
       "    <tr>\n",
       "      <th>46</th>\n",
       "      <td>0.891694</td>\n",
       "      <td>0.944296</td>\n",
       "    </tr>\n",
       "    <tr>\n",
       "      <th>47</th>\n",
       "      <td>0.890998</td>\n",
       "      <td>0.943927</td>\n",
       "    </tr>\n",
       "    <tr>\n",
       "      <th>48</th>\n",
       "      <td>0.890296</td>\n",
       "      <td>0.943555</td>\n",
       "    </tr>\n",
       "    <tr>\n",
       "      <th>49</th>\n",
       "      <td>0.889588</td>\n",
       "      <td>0.943180</td>\n",
       "    </tr>\n",
       "    <tr>\n",
       "      <th>50</th>\n",
       "      <td>0.888878</td>\n",
       "      <td>0.942803</td>\n",
       "    </tr>\n",
       "    <tr>\n",
       "      <th>51</th>\n",
       "      <td>0.888166</td>\n",
       "      <td>0.942426</td>\n",
       "    </tr>\n",
       "    <tr>\n",
       "      <th>52</th>\n",
       "      <td>0.887455</td>\n",
       "      <td>0.942049</td>\n",
       "    </tr>\n",
       "    <tr>\n",
       "      <th>53</th>\n",
       "      <td>0.886748</td>\n",
       "      <td>0.941673</td>\n",
       "    </tr>\n",
       "    <tr>\n",
       "      <th>54</th>\n",
       "      <td>0.886045</td>\n",
       "      <td>0.941300</td>\n",
       "    </tr>\n",
       "    <tr>\n",
       "      <th>55</th>\n",
       "      <td>0.885351</td>\n",
       "      <td>0.940931</td>\n",
       "    </tr>\n",
       "    <tr>\n",
       "      <th>56</th>\n",
       "      <td>0.884664</td>\n",
       "      <td>0.940566</td>\n",
       "    </tr>\n",
       "    <tr>\n",
       "      <th>57</th>\n",
       "      <td>0.883992</td>\n",
       "      <td>0.940208</td>\n",
       "    </tr>\n",
       "    <tr>\n",
       "      <th>58</th>\n",
       "      <td>0.883333</td>\n",
       "      <td>0.939858</td>\n",
       "    </tr>\n",
       "    <tr>\n",
       "      <th>59</th>\n",
       "      <td>0.882691</td>\n",
       "      <td>0.939516</td>\n",
       "    </tr>\n",
       "    <tr>\n",
       "      <th>60</th>\n",
       "      <td>0.882067</td>\n",
       "      <td>0.939184</td>\n",
       "    </tr>\n",
       "    <tr>\n",
       "      <th>61</th>\n",
       "      <td>0.881464</td>\n",
       "      <td>0.938863</td>\n",
       "    </tr>\n",
       "    <tr>\n",
       "      <th>62</th>\n",
       "      <td>0.880886</td>\n",
       "      <td>0.938555</td>\n",
       "    </tr>\n",
       "    <tr>\n",
       "      <th>63</th>\n",
       "      <td>0.880333</td>\n",
       "      <td>0.938260</td>\n",
       "    </tr>\n",
       "    <tr>\n",
       "      <th>64</th>\n",
       "      <td>0.879806</td>\n",
       "      <td>0.937980</td>\n",
       "    </tr>\n",
       "    <tr>\n",
       "      <th>65</th>\n",
       "      <td>0.879306</td>\n",
       "      <td>0.937713</td>\n",
       "    </tr>\n",
       "    <tr>\n",
       "      <th>66</th>\n",
       "      <td>0.878838</td>\n",
       "      <td>0.937464</td>\n",
       "    </tr>\n",
       "    <tr>\n",
       "      <th>67</th>\n",
       "      <td>0.878400</td>\n",
       "      <td>0.937230</td>\n",
       "    </tr>\n",
       "    <tr>\n",
       "      <th>68</th>\n",
       "      <td>0.877993</td>\n",
       "      <td>0.937013</td>\n",
       "    </tr>\n",
       "    <tr>\n",
       "      <th>69</th>\n",
       "      <td>0.877618</td>\n",
       "      <td>0.936813</td>\n",
       "    </tr>\n",
       "  </tbody>\n",
       "</table>\n",
       "<p>70 rows × 2 columns</p>\n",
       "</div>"
      ],
      "text/plain": [
       "          loss  root_mean_squared_error\n",
       "0   448.207275                21.170906\n",
       "1   306.955811                17.520155\n",
       "2   228.678040                15.122105\n",
       "3   175.595947                13.251262\n",
       "4   136.689865                11.691444\n",
       "5   107.031654                10.345611\n",
       "6    83.924644                 9.161039\n",
       "7    65.702370                 8.105700\n",
       "8    51.246387                 7.158658\n",
       "9    39.759472                 6.305511\n",
       "10   30.646860                 5.535961\n",
       "11   23.448950                 4.842412\n",
       "12   17.800976                 4.219120\n",
       "13   13.407540                 3.661631\n",
       "14   10.026084                 3.166399\n",
       "15    7.455761                 2.730524\n",
       "16    5.529680                 2.351527\n",
       "17    4.109378                 2.027160\n",
       "18    3.080584                 1.755159\n",
       "19    2.349897                 1.532937\n",
       "20    1.841982                 1.357196\n",
       "21    1.497085                 1.223554\n",
       "22    1.268733                 1.126381\n",
       "23    1.121600                 1.059056\n",
       "24    1.029518                 1.014651\n",
       "25    0.973636                 0.986730\n",
       "26    0.940792                 0.969944\n",
       "27    0.922103                 0.960262\n",
       "28    0.911784                 0.954874\n",
       "29    0.906213                 0.951952\n",
       "..         ...                      ...\n",
       "40    0.895663                 0.946395\n",
       "41    0.895033                 0.946062\n",
       "42    0.894388                 0.945721\n",
       "43    0.893730                 0.945373\n",
       "44    0.893062                 0.945019\n",
       "45    0.892383                 0.944660\n",
       "46    0.891694                 0.944296\n",
       "47    0.890998                 0.943927\n",
       "48    0.890296                 0.943555\n",
       "49    0.889588                 0.943180\n",
       "50    0.888878                 0.942803\n",
       "51    0.888166                 0.942426\n",
       "52    0.887455                 0.942049\n",
       "53    0.886748                 0.941673\n",
       "54    0.886045                 0.941300\n",
       "55    0.885351                 0.940931\n",
       "56    0.884664                 0.940566\n",
       "57    0.883992                 0.940208\n",
       "58    0.883333                 0.939858\n",
       "59    0.882691                 0.939516\n",
       "60    0.882067                 0.939184\n",
       "61    0.881464                 0.938863\n",
       "62    0.880886                 0.938555\n",
       "63    0.880333                 0.938260\n",
       "64    0.879806                 0.937980\n",
       "65    0.879306                 0.937713\n",
       "66    0.878838                 0.937464\n",
       "67    0.878400                 0.937230\n",
       "68    0.877993                 0.937013\n",
       "69    0.877618                 0.936813\n",
       "\n",
       "[70 rows x 2 columns]"
      ]
     },
     "execution_count": 72,
     "metadata": {},
     "output_type": "execute_result"
    }
   ],
   "source": [
    "hist"
   ]
  },
  {
   "cell_type": "code",
   "execution_count": 73,
   "id": "cf164c73",
   "metadata": {},
   "outputs": [],
   "source": [
    "rmse = hist[\"root_mean_squared_error\"]"
   ]
  },
  {
   "cell_type": "code",
   "execution_count": 74,
   "id": "4a818fab",
   "metadata": {},
   "outputs": [
    {
     "data": {
      "text/plain": [
       "0     21.170906\n",
       "1     17.520155\n",
       "2     15.122105\n",
       "3     13.251262\n",
       "4     11.691444\n",
       "5     10.345611\n",
       "6      9.161039\n",
       "7      8.105700\n",
       "8      7.158658\n",
       "9      6.305511\n",
       "10     5.535961\n",
       "11     4.842412\n",
       "12     4.219120\n",
       "13     3.661631\n",
       "14     3.166399\n",
       "15     2.730524\n",
       "16     2.351527\n",
       "17     2.027160\n",
       "18     1.755159\n",
       "19     1.532937\n",
       "20     1.357196\n",
       "21     1.223554\n",
       "22     1.126381\n",
       "23     1.059056\n",
       "24     1.014651\n",
       "25     0.986730\n",
       "26     0.969944\n",
       "27     0.960262\n",
       "28     0.954874\n",
       "29     0.951952\n",
       "        ...    \n",
       "40     0.946395\n",
       "41     0.946062\n",
       "42     0.945721\n",
       "43     0.945373\n",
       "44     0.945019\n",
       "45     0.944660\n",
       "46     0.944296\n",
       "47     0.943927\n",
       "48     0.943555\n",
       "49     0.943180\n",
       "50     0.942803\n",
       "51     0.942426\n",
       "52     0.942049\n",
       "53     0.941673\n",
       "54     0.941300\n",
       "55     0.940931\n",
       "56     0.940566\n",
       "57     0.940208\n",
       "58     0.939858\n",
       "59     0.939516\n",
       "60     0.939184\n",
       "61     0.938863\n",
       "62     0.938555\n",
       "63     0.938260\n",
       "64     0.937980\n",
       "65     0.937713\n",
       "66     0.937464\n",
       "67     0.937230\n",
       "68     0.937013\n",
       "69     0.936813\n",
       "Name: root_mean_squared_error, Length: 70, dtype: float64"
      ]
     },
     "execution_count": 74,
     "metadata": {},
     "output_type": "execute_result"
    }
   ],
   "source": [
    "rmse"
   ]
  },
  {
   "cell_type": "code",
   "execution_count": 75,
   "id": "809eff86",
   "metadata": {},
   "outputs": [],
   "source": [
    "x0 = 0; y0=trained_bias=model.get_weights()[1];trained_weight=model.get_weights()[0]"
   ]
  },
  {
   "cell_type": "code",
   "execution_count": 76,
   "id": "f9b7d5a6",
   "metadata": {},
   "outputs": [
    {
     "data": {
      "text/plain": [
       "array([2.2791622], dtype=float32)"
      ]
     },
     "execution_count": 76,
     "metadata": {},
     "output_type": "execute_result"
    }
   ],
   "source": [
    "y0"
   ]
  },
  {
   "cell_type": "code",
   "execution_count": 77,
   "id": "673bab93",
   "metadata": {},
   "outputs": [
    {
     "data": {
      "text/plain": [
       "12.0"
      ]
     },
     "execution_count": 77,
     "metadata": {},
     "output_type": "execute_result"
    }
   ],
   "source": [
    "x1 = my_feature[-1];x1"
   ]
  },
  {
   "cell_type": "code",
   "execution_count": 78,
   "id": "6fbc4cf7",
   "metadata": {},
   "outputs": [
    {
     "data": {
      "text/plain": [
       "array([[37.64574]], dtype=float32)"
      ]
     },
     "execution_count": 78,
     "metadata": {},
     "output_type": "execute_result"
    }
   ],
   "source": [
    "y1 = y0 + (trained_weight * x1);y1"
   ]
  },
  {
   "cell_type": "code",
   "execution_count": 79,
   "id": "2efcacb8",
   "metadata": {},
   "outputs": [
    {
     "data": {
      "text/plain": [
       "[<matplotlib.lines.Line2D at 0x7ebfd4a208>]"
      ]
     },
     "execution_count": 79,
     "metadata": {},
     "output_type": "execute_result"
    },
    {
     "data": {
      "image/png": "[encoded data removed]",
      "text/plain": [
       "<matplotlib.figure.Figure at 0x7ebfd4a240>"
      ]
     },
     "metadata": {
      "needs_background": "light"
     },
     "output_type": "display_data"
    }
   ],
   "source": [
    "plt.xlabel(\"feature\")\n",
    "plt.ylabel(\"label\")\n",
    "plt.scatter(my_feature, my_label)\n",
    "x0 = 0\n",
    "y0 = trained_bias\n",
    "x1 = my_feature[-1]\n",
    "y1 = trained_bias + (trained_weight * x1)\n",
    "plt.plot([x0, x1], [y0, y1], c='r')"
   ]
  },
  {
   "cell_type": "code",
   "execution_count": 82,
   "id": "ccc71fa6",
   "metadata": {},
   "outputs": [
    {
     "data": {
      "image/png": "[encoded data removed]",
      "text/plain": [
       "<matplotlib.figure.Figure at 0x7ecb3ad5c0>"
      ]
     },
     "metadata": {
      "needs_background": "light"
     },
     "output_type": "display_data"
    }
   ],
   "source": [
    "  plt.figure()\n",
    "  plt.xlabel(\"Epoch\")\n",
    "  plt.ylabel(\"Root Mean Squared Error\")\n",
    "\n",
    "  plt.plot(epochs, rmse, label=\"Loss\")\n",
    "  plt.legend()\n",
    "  plt.ylim([rmse.min()*0.97, rmse.max()])\n",
    "  plt.show()"
   ]
  },
  {
   "cell_type": "code",
   "execution_count": null,
   "id": "f7b508e1",
   "metadata": {},
   "outputs": [],
   "source": []
  }
 ],
 "metadata": {
  "kernelspec": {
   "display_name": "Python 3",
   "language": "python",
   "name": "python3"
  },
  "language_info": {
   "codemirror_mode": {
    "name": "ipython",
    "version": 3
   },
   "file_extension": ".py",
   "mimetype": "text/x-python",
   "name": "python",
   "nbconvert_exporter": "python",
   "pygments_lexer": "ipython3",
   "version": "3.6.9"
  }
 },
 "nbformat": 4,
 "nbformat_minor": 5
}
